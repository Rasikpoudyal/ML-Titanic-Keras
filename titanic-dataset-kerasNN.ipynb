import keras
import seaborn as sns
import pandas as pd
import numpy as np
import sys
sys.executable

from keras.models import Sequential
from keras.layers import Dense, Activation, Dropout
from keras.optimizers import SGD, RMSprop, Adam

import matplotlib.pyplot as plt

%matplotlib inline

